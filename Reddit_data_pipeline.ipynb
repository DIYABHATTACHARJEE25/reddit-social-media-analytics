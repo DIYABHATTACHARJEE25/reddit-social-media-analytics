{
  "nbformat": 4,
  "nbformat_minor": 0,
  "metadata": {
    "colab": {
      "provenance": []
    },
    "kernelspec": {
      "name": "python3",
      "display_name": "Python 3"
    },
    "language_info": {
      "name": "python"
    }
  },
  "cells": [
    {
      "cell_type": "code",
      "execution_count": null,
      "metadata": {
        "colab": {
          "base_uri": "https://localhost:8080/"
        },
        "id": "98NfUyZwEAJq",
        "outputId": "de0be738-f375-4684-b9ea-bbd0204ecbe5"
      },
      "outputs": [
        {
          "output_type": "stream",
          "name": "stdout",
          "text": [
            "Collecting praw\n",
            "  Downloading praw-7.8.1-py3-none-any.whl.metadata (9.4 kB)\n",
            "Requirement already satisfied: pandas in /usr/local/lib/python3.11/dist-packages (2.2.2)\n",
            "Requirement already satisfied: textblob in /usr/local/lib/python3.11/dist-packages (0.19.0)\n",
            "Collecting boto3\n",
            "  Downloading boto3-1.40.9-py3-none-any.whl.metadata (6.7 kB)\n",
            "Collecting prawcore<3,>=2.4 (from praw)\n",
            "  Downloading prawcore-2.4.0-py3-none-any.whl.metadata (5.0 kB)\n",
            "Collecting update_checker>=0.18 (from praw)\n",
            "  Downloading update_checker-0.18.0-py3-none-any.whl.metadata (2.3 kB)\n",
            "Requirement already satisfied: websocket-client>=0.54.0 in /usr/local/lib/python3.11/dist-packages (from praw) (1.8.0)\n",
            "Requirement already satisfied: numpy>=1.23.2 in /usr/local/lib/python3.11/dist-packages (from pandas) (2.0.2)\n",
            "Requirement already satisfied: python-dateutil>=2.8.2 in /usr/local/lib/python3.11/dist-packages (from pandas) (2.9.0.post0)\n",
            "Requirement already satisfied: pytz>=2020.1 in /usr/local/lib/python3.11/dist-packages (from pandas) (2025.2)\n",
            "Requirement already satisfied: tzdata>=2022.7 in /usr/local/lib/python3.11/dist-packages (from pandas) (2025.2)\n",
            "Requirement already satisfied: nltk>=3.9 in /usr/local/lib/python3.11/dist-packages (from textblob) (3.9.1)\n",
            "Collecting botocore<1.41.0,>=1.40.9 (from boto3)\n",
            "  Downloading botocore-1.40.9-py3-none-any.whl.metadata (5.7 kB)\n",
            "Collecting jmespath<2.0.0,>=0.7.1 (from boto3)\n",
            "  Downloading jmespath-1.0.1-py3-none-any.whl.metadata (7.6 kB)\n",
            "Collecting s3transfer<0.14.0,>=0.13.0 (from boto3)\n",
            "  Downloading s3transfer-0.13.1-py3-none-any.whl.metadata (1.7 kB)\n",
            "Requirement already satisfied: urllib3!=2.2.0,<3,>=1.25.4 in /usr/local/lib/python3.11/dist-packages (from botocore<1.41.0,>=1.40.9->boto3) (2.5.0)\n",
            "Requirement already satisfied: click in /usr/local/lib/python3.11/dist-packages (from nltk>=3.9->textblob) (8.2.1)\n",
            "Requirement already satisfied: joblib in /usr/local/lib/python3.11/dist-packages (from nltk>=3.9->textblob) (1.5.1)\n",
            "Requirement already satisfied: regex>=2021.8.3 in /usr/local/lib/python3.11/dist-packages (from nltk>=3.9->textblob) (2024.11.6)\n",
            "Requirement already satisfied: tqdm in /usr/local/lib/python3.11/dist-packages (from nltk>=3.9->textblob) (4.67.1)\n",
            "Requirement already satisfied: requests<3.0,>=2.6.0 in /usr/local/lib/python3.11/dist-packages (from prawcore<3,>=2.4->praw) (2.32.3)\n",
            "Requirement already satisfied: six>=1.5 in /usr/local/lib/python3.11/dist-packages (from python-dateutil>=2.8.2->pandas) (1.17.0)\n",
            "Requirement already satisfied: charset-normalizer<4,>=2 in /usr/local/lib/python3.11/dist-packages (from requests<3.0,>=2.6.0->prawcore<3,>=2.4->praw) (3.4.3)\n",
            "Requirement already satisfied: idna<4,>=2.5 in /usr/local/lib/python3.11/dist-packages (from requests<3.0,>=2.6.0->prawcore<3,>=2.4->praw) (3.10)\n",
            "Requirement already satisfied: certifi>=2017.4.17 in /usr/local/lib/python3.11/dist-packages (from requests<3.0,>=2.6.0->prawcore<3,>=2.4->praw) (2025.8.3)\n",
            "Downloading praw-7.8.1-py3-none-any.whl (189 kB)\n",
            "\u001b[2K   \u001b[90m━━━━━━━━━━━━━━━━━━━━━━━━━━━━━━━━━━━━━━━━\u001b[0m \u001b[32m189.3/189.3 kB\u001b[0m \u001b[31m6.6 MB/s\u001b[0m eta \u001b[36m0:00:00\u001b[0m\n",
            "\u001b[?25hDownloading boto3-1.40.9-py3-none-any.whl (140 kB)\n",
            "\u001b[2K   \u001b[90m━━━━━━━━━━━━━━━━━━━━━━━━━━━━━━━━━━━━━━━━\u001b[0m \u001b[32m140.1/140.1 kB\u001b[0m \u001b[31m12.1 MB/s\u001b[0m eta \u001b[36m0:00:00\u001b[0m\n",
            "\u001b[?25hDownloading botocore-1.40.9-py3-none-any.whl (14.0 MB)\n",
            "\u001b[2K   \u001b[90m━━━━━━━━━━━━━━━━━━━━━━━━━━━━━━━━━━━━━━━━\u001b[0m \u001b[32m14.0/14.0 MB\u001b[0m \u001b[31m97.8 MB/s\u001b[0m eta \u001b[36m0:00:00\u001b[0m\n",
            "\u001b[?25hDownloading jmespath-1.0.1-py3-none-any.whl (20 kB)\n",
            "Downloading prawcore-2.4.0-py3-none-any.whl (17 kB)\n",
            "Downloading s3transfer-0.13.1-py3-none-any.whl (85 kB)\n",
            "\u001b[2K   \u001b[90m━━━━━━━━━━━━━━━━━━━━━━━━━━━━━━━━━━━━━━━━\u001b[0m \u001b[32m85.3/85.3 kB\u001b[0m \u001b[31m7.1 MB/s\u001b[0m eta \u001b[36m0:00:00\u001b[0m\n",
            "\u001b[?25hDownloading update_checker-0.18.0-py3-none-any.whl (7.0 kB)\n",
            "Installing collected packages: jmespath, update_checker, prawcore, botocore, s3transfer, praw, boto3\n",
            "Successfully installed boto3-1.40.9 botocore-1.40.9 jmespath-1.0.1 praw-7.8.1 prawcore-2.4.0 s3transfer-0.13.1 update_checker-0.18.0\n"
          ]
        }
      ],
      "source": [
        "!pip install praw pandas textblob boto3"
      ]
    },
    {
      "cell_type": "code",
      "source": [
        "\n",
        "# Install required packages (run these lines in Colab or terminal)\n",
        "!pip install praw pandas textblob\n",
        "\n",
        "# --- Import libraries ---\n",
        "import praw\n",
        "import pandas as pd\n",
        "from textblob import TextBlob\n",
        "import re\n",
        "\n",
        "# --- ENTER YOUR REDDIT API CREDENTIALS ---\n",
        "client_id = \"KTUyPqMd0dEJfXdlvKfaKQ\"           # Copy from Reddit app page\n",
        "client_secret = \"5-kwS1AIRW0U1xvNI6lv0tMZUDGQ_Q\"   # Copy from Reddit app page ('secret' field)\n",
        "user_agent = \"social-media-analytics-pipeline by Diya\"  # Or any custom string\n",
        "\n",
        "# --- Set up Reddit instance ---\n",
        "reddit = praw.Reddit(\n",
        "    client_id=client_id,\n",
        "    client_secret=client_secret,\n",
        "    user_agent=user_agent\n",
        ")\n",
        "\n",
        "# --- Function to clean the text ---\n",
        "def clean_text(text):\n",
        "    text = re.sub(r\"http\\S+\", \"\", text)                 # remove URLs\n",
        "    text = re.sub(r\"[^A-Za-z\\s]\", \"\", text)             # remove non-letters\n",
        "    return text.strip().lower()\n",
        "\n",
        "# --- Function for sentiment analysis ---\n",
        "def get_sentiment(text):\n",
        "    return TextBlob(text).sentiment.polarity\n",
        "\n",
        "# --- Fetch posts from a subreddit (change subreddit_name as needed) ---\n",
        "def fetch_posts(subreddit_name, limit=50):\n",
        "    subreddit = reddit.subreddit(subreddit_name)\n",
        "    posts = []\n",
        "    for post in subreddit.hot(limit=limit):\n",
        "        content = (post.title or \"\") + \" \" + (post.selftext or \"\")\n",
        "        clean = clean_text(content)\n",
        "        sentiment = get_sentiment(clean)\n",
        "        posts.append({\n",
        "            \"id\": post.id,\n",
        "            \"title\": post.title,\n",
        "            \"clean_text\": clean,\n",
        "            \"sentiment_score\": sentiment,\n",
        "            \"sentiment_label\": \"Positive\" if sentiment > 0.1 else (\"Negative\" if sentiment < -0.1 else \"Neutral\"),\n",
        "            \"created_utc\": post.created_utc,\n",
        "            \"score\": post.score,\n",
        "            \"num_comments\": post.num_comments,\n",
        "            \"url\": post.url\n",
        "        })\n",
        "    return pd.DataFrame(posts)\n",
        "\n",
        "# --- Example usage: Fetch 20 posts from 'technology' subreddit ---\n",
        "df = fetch_posts('technology', limit=20)\n",
        "print(df.head())\n",
        "\n",
        "# --- Save as CSV ---\n",
        "df.to_csv(\"reddit_technology_posts.csv\", index=False)\n",
        "print(\"Saved CSV: reddit_technology_posts.csv\")"
      ],
      "metadata": {
        "colab": {
          "base_uri": "https://localhost:8080/"
        },
        "id": "P3p0Da8yGfuM",
        "outputId": "1410bd50-99cd-4f2a-e3a2-50dffaf93935"
      },
      "execution_count": null,
      "outputs": [
        {
          "output_type": "stream",
          "name": "stdout",
          "text": [
            "Requirement already satisfied: praw in /usr/local/lib/python3.11/dist-packages (7.8.1)\n",
            "Requirement already satisfied: pandas in /usr/local/lib/python3.11/dist-packages (2.2.2)\n",
            "Requirement already satisfied: textblob in /usr/local/lib/python3.11/dist-packages (0.19.0)\n",
            "Requirement already satisfied: prawcore<3,>=2.4 in /usr/local/lib/python3.11/dist-packages (from praw) (2.4.0)\n",
            "Requirement already satisfied: update_checker>=0.18 in /usr/local/lib/python3.11/dist-packages (from praw) (0.18.0)\n",
            "Requirement already satisfied: websocket-client>=0.54.0 in /usr/local/lib/python3.11/dist-packages (from praw) (1.8.0)\n",
            "Requirement already satisfied: numpy>=1.23.2 in /usr/local/lib/python3.11/dist-packages (from pandas) (2.0.2)\n",
            "Requirement already satisfied: python-dateutil>=2.8.2 in /usr/local/lib/python3.11/dist-packages (from pandas) (2.9.0.post0)\n",
            "Requirement already satisfied: pytz>=2020.1 in /usr/local/lib/python3.11/dist-packages (from pandas) (2025.2)\n",
            "Requirement already satisfied: tzdata>=2022.7 in /usr/local/lib/python3.11/dist-packages (from pandas) (2025.2)\n",
            "Requirement already satisfied: nltk>=3.9 in /usr/local/lib/python3.11/dist-packages (from textblob) (3.9.1)\n",
            "Requirement already satisfied: click in /usr/local/lib/python3.11/dist-packages (from nltk>=3.9->textblob) (8.2.1)\n",
            "Requirement already satisfied: joblib in /usr/local/lib/python3.11/dist-packages (from nltk>=3.9->textblob) (1.5.1)\n",
            "Requirement already satisfied: regex>=2021.8.3 in /usr/local/lib/python3.11/dist-packages (from nltk>=3.9->textblob) (2024.11.6)\n",
            "Requirement already satisfied: tqdm in /usr/local/lib/python3.11/dist-packages (from nltk>=3.9->textblob) (4.67.1)\n",
            "Requirement already satisfied: requests<3.0,>=2.6.0 in /usr/local/lib/python3.11/dist-packages (from prawcore<3,>=2.4->praw) (2.32.3)\n",
            "Requirement already satisfied: six>=1.5 in /usr/local/lib/python3.11/dist-packages (from python-dateutil>=2.8.2->pandas) (1.17.0)\n",
            "Requirement already satisfied: charset-normalizer<4,>=2 in /usr/local/lib/python3.11/dist-packages (from requests<3.0,>=2.6.0->prawcore<3,>=2.4->praw) (3.4.3)\n",
            "Requirement already satisfied: idna<4,>=2.5 in /usr/local/lib/python3.11/dist-packages (from requests<3.0,>=2.6.0->prawcore<3,>=2.4->praw) (3.10)\n",
            "Requirement already satisfied: urllib3<3,>=1.21.1 in /usr/local/lib/python3.11/dist-packages (from requests<3.0,>=2.6.0->prawcore<3,>=2.4->praw) (2.5.0)\n",
            "Requirement already satisfied: certifi>=2017.4.17 in /usr/local/lib/python3.11/dist-packages (from requests<3.0,>=2.6.0->prawcore<3,>=2.4->praw) (2025.8.3)\n"
          ]
        },
        {
          "output_type": "stream",
          "name": "stderr",
          "text": [
            "WARNING:praw:It appears that you are using PRAW in an asynchronous environment.\n",
            "It is strongly recommended to use Async PRAW: https://asyncpraw.readthedocs.io.\n",
            "See https://praw.readthedocs.io/en/latest/getting_started/multiple_instances.html#discord-bots-and-asynchronous-environments for more info.\n",
            "\n"
          ]
        },
        {
          "output_type": "stream",
          "name": "stdout",
          "text": [
            "        id                                              title  \\\n",
            "0  1mpbs7c  Tesla Diner Drops Most Menu Options And Cuts H...   \n",
            "1  1mpop8k  Companies Are Pouring Billions Into A.I. It Ha...   \n",
            "2  1mpmdmf  Microsoft's Windows lead says the next version...   \n",
            "3  1mpne40  Trump orders cull of regulations governing com...   \n",
            "4  1mp5wi9  UK porn site traffic plunges as age verificati...   \n",
            "\n",
            "                                          clean_text  sentiment_score  \\\n",
            "0  tesla diner drops most menu options and cuts h...             0.60   \n",
            "1  companies are pouring billions into ai it has ...             0.00   \n",
            "2  microsofts windows lead says the next version ...             0.25   \n",
            "3  trump orders cull of regulations governing com...             0.00   \n",
            "4  uk porn site traffic plunges as age verificati...             0.00   \n",
            "\n",
            "  sentiment_label   created_utc  score  num_comments  \\\n",
            "0        Positive  1.755108e+09  12582           596   \n",
            "1         Neutral  1.755140e+09    978           108   \n",
            "2        Positive  1.755133e+09   1196           712   \n",
            "3         Neutral  1.755136e+09    833            65   \n",
            "4         Neutral  1.755095e+09   3860           532   \n",
            "\n",
            "                                                 url  \n",
            "0  https://www.jalopnik.com/1938650/tesla-diner-d...  \n",
            "1  https://www.nytimes.com/2025/08/13/business/ai...  \n",
            "2  https://www.windowscentral.com/microsoft/windo...  \n",
            "3  https://arstechnica.com/space/2025/08/trump-or...  \n",
            "4  https://www.ft.com/content/618f07cb-3cd8-42ff-...  \n",
            "Saved CSV: reddit_technology_posts.csv\n"
          ]
        }
      ]
    },
    {
      "cell_type": "code",
      "source": [
        "import matplotlib.pyplot as plt\n",
        "df['sentiment_label'].value_counts().plot(kind='bar', color=['green', 'red', 'gray'])\n",
        "plt.title(\"Sentiment Distribution\")\n",
        "plt.xlabel(\"Sentiment\")\n",
        "plt.ylabel(\"Number of Posts\")\n",
        "plt.show()"
      ],
      "metadata": {
        "colab": {
          "base_uri": "https://localhost:8080/",
          "height": 520
        },
        "id": "EDcZxEUmF615",
        "outputId": "e587ec35-6fe0-400e-9713-2c906fcf18e8"
      },
      "execution_count": null,
      "outputs": [
        {
          "output_type": "display_data",
          "data": {
            "text/plain": [
              "<Figure size 640x480 with 1 Axes>"
            ],
            "image/png": "[encoded data removed]"
          },
          "metadata": {}
        }
      ]
    },
    {
      "cell_type": "code",
      "source": [
        "def fetch_posts_and_comments(subreddit_name, post_limit=20, comment_limit=10):\n",
        "    subreddit = reddit.subreddit(subreddit_name)\n",
        "    data = []\n",
        "    for post in subreddit.hot(limit=post_limit):\n",
        "        content = (post.title or \"\") + \" \" + (post.selftext or \"\")\n",
        "        clean = clean_text(content)\n",
        "        sentiment = get_sentiment(clean)\n",
        "        comments = []\n",
        "        post.comments.replace_more(limit=0)\n",
        "        for c in post.comments.list()[:comment_limit]:\n",
        "            c_text = clean_text(c.body)\n",
        "            c_sentiment = get_sentiment(c_text)\n",
        "            comments.append({\n",
        "                'comment_id': c.id,\n",
        "                'comment_body': c.body,\n",
        "                'comment_clean_text': c_text,\n",
        "                'comment_sentiment': c_sentiment\n",
        "            })\n",
        "        data.append({\n",
        "            \"id\": post.id,\n",
        "            \"title\": post.title,\n",
        "            \"clean_text\": clean,\n",
        "            \"sentiment_score\": sentiment,\n",
        "            \"sentiment_label\": \"Positive\" if sentiment > 0.1 else (\"Negative\" if sentiment < -0.1 else \"Neutral\"),\n",
        "            \"created_utc\": post.created_utc,\n",
        "            \"score\": post.score,\n",
        "            \"num_comments\": post.num_comments,\n",
        "            \"url\": post.url,\n",
        "            \"comments\": comments\n",
        "        })\n",
        "    return data\n",
        "\n",
        "# Usage\n",
        "post_data = fetch_posts_and_comments('technology', post_limit=5, comment_limit=5)\n",
        "import json\n",
        "with open('reddit_posts_and_comments.json', 'w') as f:\n",
        "    json.dump(post_data, f, indent=2)"
      ],
      "metadata": {
        "colab": {
          "base_uri": "https://localhost:8080/"
        },
        "id": "Dm7ar5hyF7MA",
        "outputId": "0d0868ae-9019-46fe-ffb7-a52e76815687"
      },
      "execution_count": null,
      "outputs": [
        {
          "output_type": "stream",
          "name": "stderr",
          "text": [
            "WARNING:praw:It appears that you are using PRAW in an asynchronous environment.\n",
            "It is strongly recommended to use Async PRAW: https://asyncpraw.readthedocs.io.\n",
            "See https://praw.readthedocs.io/en/latest/getting_started/multiple_instances.html#discord-bots-and-asynchronous-environments for more info.\n",
            "\n",
            "WARNING:praw:It appears that you are using PRAW in an asynchronous environment.\n",
            "It is strongly recommended to use Async PRAW: https://asyncpraw.readthedocs.io.\n",
            "See https://praw.readthedocs.io/en/latest/getting_started/multiple_instances.html#discord-bots-and-asynchronous-environments for more info.\n",
            "\n",
            "WARNING:praw:It appears that you are using PRAW in an asynchronous environment.\n",
            "It is strongly recommended to use Async PRAW: https://asyncpraw.readthedocs.io.\n",
            "See https://praw.readthedocs.io/en/latest/getting_started/multiple_instances.html#discord-bots-and-asynchronous-environments for more info.\n",
            "\n",
            "WARNING:praw:It appears that you are using PRAW in an asynchronous environment.\n",
            "It is strongly recommended to use Async PRAW: https://asyncpraw.readthedocs.io.\n",
            "See https://praw.readthedocs.io/en/latest/getting_started/multiple_instances.html#discord-bots-and-asynchronous-environments for more info.\n",
            "\n",
            "WARNING:praw:It appears that you are using PRAW in an asynchronous environment.\n",
            "It is strongly recommended to use Async PRAW: https://asyncpraw.readthedocs.io.\n",
            "See https://praw.readthedocs.io/en/latest/getting_started/multiple_instances.html#discord-bots-and-asynchronous-environments for more info.\n",
            "\n",
            "WARNING:praw:It appears that you are using PRAW in an asynchronous environment.\n",
            "It is strongly recommended to use Async PRAW: https://asyncpraw.readthedocs.io.\n",
            "See https://praw.readthedocs.io/en/latest/getting_started/multiple_instances.html#discord-bots-and-asynchronous-environments for more info.\n",
            "\n"
          ]
        }
      ]
    },
    {
      "cell_type": "code",
      "source": [
        "import matplotlib.pyplot as plt\n",
        "\n",
        "df['sentiment_label'].value_counts().plot(kind='bar', color=['green', 'red', 'gray'])\n",
        "plt.title('Sentiment Distribution')\n",
        "plt.xlabel('Sentiment')\n",
        "plt.ylabel('Count')\n",
        "plt.show()"
      ],
      "metadata": {
        "colab": {
          "base_uri": "https://localhost:8080/",
          "height": 520
        },
        "id": "6Oy2fbXZF7PO",
        "outputId": "46fccc59-ff02-48ca-a1e6-123c84b1f9f4"
      },
      "execution_count": null,
      "outputs": [
        {
          "output_type": "display_data",
          "data": {
            "text/plain": [
              "<Figure size 640x480 with 1 Axes>"
            ],
            "image/png": "[encoded data removed]"
          },
          "metadata": {}
        }
      ]
    },
    {
      "cell_type": "code",
      "source": [],
      "metadata": {
        "id": "68xtCfK_F7So"
      },
      "execution_count": null,
      "outputs": []
    }
  ]
}